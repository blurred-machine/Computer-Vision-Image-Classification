{
 "cells": [
  {
   "cell_type": "markdown",
   "metadata": {},
   "source": [
    "### MNIST Image Classification on Sign Language\n",
    "* In this project I am using MNIST dataset of hand made sign language images to classify each image into a class of 26 alphabets from A-Z.\n",
    "* KAGGLE LINK: https://www.kaggle.com/datamunge/sign-language-mnist"
   ]
  },
  {
   "cell_type": "code",
   "execution_count": 1,
   "metadata": {},
   "outputs": [],
   "source": [
    "import pandas as pd\n",
    "import numpy as np\n",
    "\n",
    "import seaborn as sns\n",
    "\n",
    "import matplotlib.pyplot as plt\n",
    "%matplotlib inline"
   ]
  },
  {
   "cell_type": "code",
   "execution_count": 2,
   "metadata": {},
   "outputs": [],
   "source": [
    "mnist_train = pd.read_csv(\"sign_datasets/sign_mnist_train.csv\")\n",
    "mnist_test = pd.read_csv(\"sign_datasets/sign_mnist_test.csv\")"
   ]
  },
  {
   "cell_type": "code",
   "execution_count": 3,
   "metadata": {},
   "outputs": [
    {
     "name": "stdout",
     "output_type": "stream",
     "text": [
      "(27455, 785) (7172, 785)\n"
     ]
    }
   ],
   "source": [
    "print(mnist_train.shape, mnist_test.shape)"
   ]
  },
  {
   "cell_type": "code",
   "execution_count": 4,
   "metadata": {},
   "outputs": [
    {
     "data": {
      "text/html": [
       "<div>\n",
       "<style scoped>\n",
       "    .dataframe tbody tr th:only-of-type {\n",
       "        vertical-align: middle;\n",
       "    }\n",
       "\n",
       "    .dataframe tbody tr th {\n",
       "        vertical-align: top;\n",
       "    }\n",
       "\n",
       "    .dataframe thead th {\n",
       "        text-align: right;\n",
       "    }\n",
       "</style>\n",
       "<table border=\"1\" class=\"dataframe\">\n",
       "  <thead>\n",
       "    <tr style=\"text-align: right;\">\n",
       "      <th></th>\n",
       "      <th>label</th>\n",
       "      <th>pixel1</th>\n",
       "      <th>pixel2</th>\n",
       "      <th>pixel3</th>\n",
       "      <th>pixel4</th>\n",
       "      <th>pixel5</th>\n",
       "      <th>pixel6</th>\n",
       "      <th>pixel7</th>\n",
       "      <th>pixel8</th>\n",
       "      <th>pixel9</th>\n",
       "      <th>...</th>\n",
       "      <th>pixel775</th>\n",
       "      <th>pixel776</th>\n",
       "      <th>pixel777</th>\n",
       "      <th>pixel778</th>\n",
       "      <th>pixel779</th>\n",
       "      <th>pixel780</th>\n",
       "      <th>pixel781</th>\n",
       "      <th>pixel782</th>\n",
       "      <th>pixel783</th>\n",
       "      <th>pixel784</th>\n",
       "    </tr>\n",
       "  </thead>\n",
       "  <tbody>\n",
       "    <tr>\n",
       "      <th>0</th>\n",
       "      <td>3</td>\n",
       "      <td>107</td>\n",
       "      <td>118</td>\n",
       "      <td>127</td>\n",
       "      <td>134</td>\n",
       "      <td>139</td>\n",
       "      <td>143</td>\n",
       "      <td>146</td>\n",
       "      <td>150</td>\n",
       "      <td>153</td>\n",
       "      <td>...</td>\n",
       "      <td>207</td>\n",
       "      <td>207</td>\n",
       "      <td>207</td>\n",
       "      <td>207</td>\n",
       "      <td>206</td>\n",
       "      <td>206</td>\n",
       "      <td>206</td>\n",
       "      <td>204</td>\n",
       "      <td>203</td>\n",
       "      <td>202</td>\n",
       "    </tr>\n",
       "    <tr>\n",
       "      <th>1</th>\n",
       "      <td>6</td>\n",
       "      <td>155</td>\n",
       "      <td>157</td>\n",
       "      <td>156</td>\n",
       "      <td>156</td>\n",
       "      <td>156</td>\n",
       "      <td>157</td>\n",
       "      <td>156</td>\n",
       "      <td>158</td>\n",
       "      <td>158</td>\n",
       "      <td>...</td>\n",
       "      <td>69</td>\n",
       "      <td>149</td>\n",
       "      <td>128</td>\n",
       "      <td>87</td>\n",
       "      <td>94</td>\n",
       "      <td>163</td>\n",
       "      <td>175</td>\n",
       "      <td>103</td>\n",
       "      <td>135</td>\n",
       "      <td>149</td>\n",
       "    </tr>\n",
       "    <tr>\n",
       "      <th>2</th>\n",
       "      <td>2</td>\n",
       "      <td>187</td>\n",
       "      <td>188</td>\n",
       "      <td>188</td>\n",
       "      <td>187</td>\n",
       "      <td>187</td>\n",
       "      <td>186</td>\n",
       "      <td>187</td>\n",
       "      <td>188</td>\n",
       "      <td>187</td>\n",
       "      <td>...</td>\n",
       "      <td>202</td>\n",
       "      <td>201</td>\n",
       "      <td>200</td>\n",
       "      <td>199</td>\n",
       "      <td>198</td>\n",
       "      <td>199</td>\n",
       "      <td>198</td>\n",
       "      <td>195</td>\n",
       "      <td>194</td>\n",
       "      <td>195</td>\n",
       "    </tr>\n",
       "    <tr>\n",
       "      <th>3</th>\n",
       "      <td>2</td>\n",
       "      <td>211</td>\n",
       "      <td>211</td>\n",
       "      <td>212</td>\n",
       "      <td>212</td>\n",
       "      <td>211</td>\n",
       "      <td>210</td>\n",
       "      <td>211</td>\n",
       "      <td>210</td>\n",
       "      <td>210</td>\n",
       "      <td>...</td>\n",
       "      <td>235</td>\n",
       "      <td>234</td>\n",
       "      <td>233</td>\n",
       "      <td>231</td>\n",
       "      <td>230</td>\n",
       "      <td>226</td>\n",
       "      <td>225</td>\n",
       "      <td>222</td>\n",
       "      <td>229</td>\n",
       "      <td>163</td>\n",
       "    </tr>\n",
       "    <tr>\n",
       "      <th>4</th>\n",
       "      <td>13</td>\n",
       "      <td>164</td>\n",
       "      <td>167</td>\n",
       "      <td>170</td>\n",
       "      <td>172</td>\n",
       "      <td>176</td>\n",
       "      <td>179</td>\n",
       "      <td>180</td>\n",
       "      <td>184</td>\n",
       "      <td>185</td>\n",
       "      <td>...</td>\n",
       "      <td>92</td>\n",
       "      <td>105</td>\n",
       "      <td>105</td>\n",
       "      <td>108</td>\n",
       "      <td>133</td>\n",
       "      <td>163</td>\n",
       "      <td>157</td>\n",
       "      <td>163</td>\n",
       "      <td>164</td>\n",
       "      <td>179</td>\n",
       "    </tr>\n",
       "  </tbody>\n",
       "</table>\n",
       "<p>5 rows × 785 columns</p>\n",
       "</div>"
      ],
      "text/plain": [
       "   label  pixel1  pixel2  pixel3  pixel4  pixel5  pixel6  pixel7  pixel8  \\\n",
       "0      3     107     118     127     134     139     143     146     150   \n",
       "1      6     155     157     156     156     156     157     156     158   \n",
       "2      2     187     188     188     187     187     186     187     188   \n",
       "3      2     211     211     212     212     211     210     211     210   \n",
       "4     13     164     167     170     172     176     179     180     184   \n",
       "\n",
       "   pixel9  ...  pixel775  pixel776  pixel777  pixel778  pixel779  pixel780  \\\n",
       "0     153  ...       207       207       207       207       206       206   \n",
       "1     158  ...        69       149       128        87        94       163   \n",
       "2     187  ...       202       201       200       199       198       199   \n",
       "3     210  ...       235       234       233       231       230       226   \n",
       "4     185  ...        92       105       105       108       133       163   \n",
       "\n",
       "   pixel781  pixel782  pixel783  pixel784  \n",
       "0       206       204       203       202  \n",
       "1       175       103       135       149  \n",
       "2       198       195       194       195  \n",
       "3       225       222       229       163  \n",
       "4       157       163       164       179  \n",
       "\n",
       "[5 rows x 785 columns]"
      ]
     },
     "execution_count": 4,
     "metadata": {},
     "output_type": "execute_result"
    }
   ],
   "source": [
    "mnist_train.head()"
   ]
  },
  {
   "cell_type": "code",
   "execution_count": 5,
   "metadata": {},
   "outputs": [
    {
     "data": {
      "text/html": [
       "<div>\n",
       "<style scoped>\n",
       "    .dataframe tbody tr th:only-of-type {\n",
       "        vertical-align: middle;\n",
       "    }\n",
       "\n",
       "    .dataframe tbody tr th {\n",
       "        vertical-align: top;\n",
       "    }\n",
       "\n",
       "    .dataframe thead th {\n",
       "        text-align: right;\n",
       "    }\n",
       "</style>\n",
       "<table border=\"1\" class=\"dataframe\">\n",
       "  <thead>\n",
       "    <tr style=\"text-align: right;\">\n",
       "      <th></th>\n",
       "      <th>label</th>\n",
       "      <th>pixel1</th>\n",
       "      <th>pixel2</th>\n",
       "      <th>pixel3</th>\n",
       "      <th>pixel4</th>\n",
       "      <th>pixel5</th>\n",
       "      <th>pixel6</th>\n",
       "      <th>pixel7</th>\n",
       "      <th>pixel8</th>\n",
       "      <th>pixel9</th>\n",
       "      <th>...</th>\n",
       "      <th>pixel775</th>\n",
       "      <th>pixel776</th>\n",
       "      <th>pixel777</th>\n",
       "      <th>pixel778</th>\n",
       "      <th>pixel779</th>\n",
       "      <th>pixel780</th>\n",
       "      <th>pixel781</th>\n",
       "      <th>pixel782</th>\n",
       "      <th>pixel783</th>\n",
       "      <th>pixel784</th>\n",
       "    </tr>\n",
       "  </thead>\n",
       "  <tbody>\n",
       "    <tr>\n",
       "      <th>0</th>\n",
       "      <td>6</td>\n",
       "      <td>149</td>\n",
       "      <td>149</td>\n",
       "      <td>150</td>\n",
       "      <td>150</td>\n",
       "      <td>150</td>\n",
       "      <td>151</td>\n",
       "      <td>151</td>\n",
       "      <td>150</td>\n",
       "      <td>151</td>\n",
       "      <td>...</td>\n",
       "      <td>138</td>\n",
       "      <td>148</td>\n",
       "      <td>127</td>\n",
       "      <td>89</td>\n",
       "      <td>82</td>\n",
       "      <td>96</td>\n",
       "      <td>106</td>\n",
       "      <td>112</td>\n",
       "      <td>120</td>\n",
       "      <td>107</td>\n",
       "    </tr>\n",
       "    <tr>\n",
       "      <th>1</th>\n",
       "      <td>5</td>\n",
       "      <td>126</td>\n",
       "      <td>128</td>\n",
       "      <td>131</td>\n",
       "      <td>132</td>\n",
       "      <td>133</td>\n",
       "      <td>134</td>\n",
       "      <td>135</td>\n",
       "      <td>135</td>\n",
       "      <td>136</td>\n",
       "      <td>...</td>\n",
       "      <td>47</td>\n",
       "      <td>104</td>\n",
       "      <td>194</td>\n",
       "      <td>183</td>\n",
       "      <td>186</td>\n",
       "      <td>184</td>\n",
       "      <td>184</td>\n",
       "      <td>184</td>\n",
       "      <td>182</td>\n",
       "      <td>180</td>\n",
       "    </tr>\n",
       "    <tr>\n",
       "      <th>2</th>\n",
       "      <td>10</td>\n",
       "      <td>85</td>\n",
       "      <td>88</td>\n",
       "      <td>92</td>\n",
       "      <td>96</td>\n",
       "      <td>105</td>\n",
       "      <td>123</td>\n",
       "      <td>135</td>\n",
       "      <td>143</td>\n",
       "      <td>147</td>\n",
       "      <td>...</td>\n",
       "      <td>68</td>\n",
       "      <td>166</td>\n",
       "      <td>242</td>\n",
       "      <td>227</td>\n",
       "      <td>230</td>\n",
       "      <td>227</td>\n",
       "      <td>226</td>\n",
       "      <td>225</td>\n",
       "      <td>224</td>\n",
       "      <td>222</td>\n",
       "    </tr>\n",
       "    <tr>\n",
       "      <th>3</th>\n",
       "      <td>0</td>\n",
       "      <td>203</td>\n",
       "      <td>205</td>\n",
       "      <td>207</td>\n",
       "      <td>206</td>\n",
       "      <td>207</td>\n",
       "      <td>209</td>\n",
       "      <td>210</td>\n",
       "      <td>209</td>\n",
       "      <td>210</td>\n",
       "      <td>...</td>\n",
       "      <td>154</td>\n",
       "      <td>248</td>\n",
       "      <td>247</td>\n",
       "      <td>248</td>\n",
       "      <td>253</td>\n",
       "      <td>236</td>\n",
       "      <td>230</td>\n",
       "      <td>240</td>\n",
       "      <td>253</td>\n",
       "      <td>255</td>\n",
       "    </tr>\n",
       "    <tr>\n",
       "      <th>4</th>\n",
       "      <td>3</td>\n",
       "      <td>188</td>\n",
       "      <td>191</td>\n",
       "      <td>193</td>\n",
       "      <td>195</td>\n",
       "      <td>199</td>\n",
       "      <td>201</td>\n",
       "      <td>202</td>\n",
       "      <td>203</td>\n",
       "      <td>203</td>\n",
       "      <td>...</td>\n",
       "      <td>26</td>\n",
       "      <td>40</td>\n",
       "      <td>64</td>\n",
       "      <td>48</td>\n",
       "      <td>29</td>\n",
       "      <td>46</td>\n",
       "      <td>49</td>\n",
       "      <td>46</td>\n",
       "      <td>46</td>\n",
       "      <td>53</td>\n",
       "    </tr>\n",
       "  </tbody>\n",
       "</table>\n",
       "<p>5 rows × 785 columns</p>\n",
       "</div>"
      ],
      "text/plain": [
       "   label  pixel1  pixel2  pixel3  pixel4  pixel5  pixel6  pixel7  pixel8  \\\n",
       "0      6     149     149     150     150     150     151     151     150   \n",
       "1      5     126     128     131     132     133     134     135     135   \n",
       "2     10      85      88      92      96     105     123     135     143   \n",
       "3      0     203     205     207     206     207     209     210     209   \n",
       "4      3     188     191     193     195     199     201     202     203   \n",
       "\n",
       "   pixel9  ...  pixel775  pixel776  pixel777  pixel778  pixel779  pixel780  \\\n",
       "0     151  ...       138       148       127        89        82        96   \n",
       "1     136  ...        47       104       194       183       186       184   \n",
       "2     147  ...        68       166       242       227       230       227   \n",
       "3     210  ...       154       248       247       248       253       236   \n",
       "4     203  ...        26        40        64        48        29        46   \n",
       "\n",
       "   pixel781  pixel782  pixel783  pixel784  \n",
       "0       106       112       120       107  \n",
       "1       184       184       182       180  \n",
       "2       226       225       224       222  \n",
       "3       230       240       253       255  \n",
       "4        49        46        46        53  \n",
       "\n",
       "[5 rows x 785 columns]"
      ]
     },
     "execution_count": 5,
     "metadata": {},
     "output_type": "execute_result"
    }
   ],
   "source": [
    "mnist_test.head()"
   ]
  },
  {
   "cell_type": "code",
   "execution_count": 6,
   "metadata": {},
   "outputs": [
    {
     "name": "stdout",
     "output_type": "stream",
     "text": [
      "0 0\n"
     ]
    }
   ],
   "source": [
    "print(mnist_train.isna().sum().sum(), mnist_test.isna().sum().sum())\n",
    "# Data is completely clean without any missing values."
   ]
  },
  {
   "cell_type": "code",
   "execution_count": 7,
   "metadata": {},
   "outputs": [],
   "source": [
    "mnist_train_data = mnist_train.loc[:, \"pixel1\":]\n",
    "mnist_train_label = mnist_train.loc[:, \"label\"]\n",
    "\n",
    "mnist_test_data = mnist_test.loc[:, \"pixel1\":]\n",
    "mnist_test_label = mnist_test.loc[:, \"label\"]"
   ]
  },
  {
   "cell_type": "code",
   "execution_count": 8,
   "metadata": {},
   "outputs": [],
   "source": [
    "# Data Normalization\n",
    "mnist_train_data = mnist_train_data/255.0\n",
    "mnist_test_data = mnist_test_data/255.0"
   ]
  },
  {
   "cell_type": "markdown",
   "metadata": {},
   "source": [
    "### Data Visualization"
   ]
  },
  {
   "cell_type": "code",
   "execution_count": 9,
   "metadata": {},
   "outputs": [
    {
     "data": {
      "text/plain": [
       "array([[0.41960784, 0.4627451 , 0.49803922, ..., 0.8       , 0.79607843,\n",
       "        0.79215686],\n",
       "       [0.60784314, 0.61568627, 0.61176471, ..., 0.40392157, 0.52941176,\n",
       "        0.58431373],\n",
       "       [0.73333333, 0.7372549 , 0.7372549 , ..., 0.76470588, 0.76078431,\n",
       "        0.76470588],\n",
       "       ...,\n",
       "       [0.68235294, 0.68235294, 0.68235294, ..., 0.79215686, 0.78431373,\n",
       "        0.78431373],\n",
       "       [0.69411765, 0.70980392, 0.72156863, ..., 0.25098039, 0.34117647,\n",
       "        0.36470588],\n",
       "       [0.70196078, 0.70588235, 0.70588235, ..., 0.80392157, 0.81960784,\n",
       "        0.84313725]])"
      ]
     },
     "execution_count": 9,
     "metadata": {},
     "output_type": "execute_result"
    }
   ],
   "source": [
    "np.array(mnist_train_data)"
   ]
  },
  {
   "cell_type": "code",
   "execution_count": 10,
   "metadata": {},
   "outputs": [
    {
     "name": "stdout",
     "output_type": "stream",
     "text": [
      "IMAGE LABEL: 2\n"
     ]
    },
    {
     "data": {
      "image/png": "[encoded data removed]",
      "text/plain": [
       "<Figure size 432x288 with 2 Axes>"
      ]
     },
     "metadata": {
      "needs_background": "light"
     },
     "output_type": "display_data"
    }
   ],
   "source": [
    "data_array = np.array(mnist_train_data.loc[2, :])\n",
    "shaped_data = np.reshape(data_array, (28, 28))\n",
    "sign_img = plt.imshow(shaped_data, cmap=plt.cm.binary)\n",
    "plt.colorbar(sign_img)\n",
    "print(\"IMAGE LABEL: {}\".format(mnist_train.loc[2, \"label\"]))\n",
    "plt.show()"
   ]
  },
  {
   "cell_type": "code",
   "execution_count": 11,
   "metadata": {},
   "outputs": [
    {
     "name": "stdout",
     "output_type": "stream",
     "text": [
      "[1126, 1010, 1144, 1196, 957, 1204, 1090, 1013, 1162, 1114, 1241, 1055, 1151, 1196, 1088, 1279, 1294, 1199, 1186, 1161, 1082, 1225, 1164, 1118]\n"
     ]
    },
    {
     "data": {
      "image/png": "[encoded data removed]",
      "text/plain": [
       "<Figure size 432x288 with 1 Axes>"
      ]
     },
     "metadata": {
      "needs_background": "light"
     },
     "output_type": "display_data"
    }
   ],
   "source": [
    "sns.countplot(mnist_train.label)\n",
    "print(list(mnist_train.label.value_counts().sort_index()))"
   ]
  },
  {
   "cell_type": "markdown",
   "metadata": {},
   "source": [
    "### Training model"
   ]
  },
  {
   "cell_type": "code",
   "execution_count": 12,
   "metadata": {},
   "outputs": [],
   "source": [
    "import tensorflow as tf\n",
    "from tensorflow import keras"
   ]
  },
  {
   "cell_type": "code",
   "execution_count": 13,
   "metadata": {},
   "outputs": [
    {
     "name": "stdout",
     "output_type": "stream",
     "text": [
      "WARNING:tensorflow:From C:\\Users\\paras\\Anaconda3\\lib\\site-packages\\tensorflow_core\\python\\ops\\resource_variable_ops.py:1630: calling BaseResourceVariable.__init__ (from tensorflow.python.ops.resource_variable_ops) with constraint is deprecated and will be removed in a future version.\n",
      "Instructions for updating:\n",
      "If using Keras pass *_constraint arguments to layers.\n"
     ]
    }
   ],
   "source": [
    "model = keras.Sequential([\n",
    "    keras.layers.Flatten(input_shape=(784,)),\n",
    "    keras.layers.Dense(256, \"relu\"),\n",
    "    keras.layers.Dense(26, activation=\"softmax\")\n",
    "])"
   ]
  },
  {
   "cell_type": "code",
   "execution_count": 14,
   "metadata": {},
   "outputs": [],
   "source": [
    "model.compile(optimizer=\"adam\", loss=\"sparse_categorical_crossentropy\", metrics=[\"accuracy\"])"
   ]
  },
  {
   "cell_type": "code",
   "execution_count": 15,
   "metadata": {},
   "outputs": [
    {
     "name": "stdout",
     "output_type": "stream",
     "text": [
      "Train on 7172 samples\n",
      "Epoch 1/50\n",
      "7172/7172 [==============================] - 0s 40us/sample - loss: 3.0286 - acc: 0.1686\n",
      "Epoch 2/50\n",
      "7172/7172 [==============================] - 0s 29us/sample - loss: 2.5877 - acc: 0.3277\n",
      "Epoch 3/50\n",
      "7172/7172 [==============================] - 0s 23us/sample - loss: 2.2694 - acc: 0.4200\n",
      "Epoch 4/50\n",
      "7172/7172 [==============================] - 0s 29us/sample - loss: 2.0058 - acc: 0.4974\n",
      "Epoch 5/50\n",
      "7172/7172 [==============================] - 0s 27us/sample - loss: 1.7776 - acc: 0.5764\n",
      "Epoch 6/50\n",
      "7172/7172 [==============================] - 0s 23us/sample - loss: 1.6081 - acc: 0.6288\n",
      "Epoch 7/50\n",
      "7172/7172 [==============================] - 0s 23us/sample - loss: 1.4641 - acc: 0.6594\n",
      "Epoch 8/50\n",
      "7172/7172 [==============================] - 0s 23us/sample - loss: 1.3377 - acc: 0.7012\n",
      "Epoch 9/50\n",
      "7172/7172 [==============================] - 0s 23us/sample - loss: 1.2362 - acc: 0.7271\n",
      "Epoch 10/50\n",
      "7172/7172 [==============================] - 0s 23us/sample - loss: 1.1347 - acc: 0.7581\n",
      "Epoch 11/50\n",
      "7172/7172 [==============================] - 0s 23us/sample - loss: 1.0631 - acc: 0.7616\n",
      "Epoch 12/50\n",
      "7172/7172 [==============================] - 0s 23us/sample - loss: 0.9821 - acc: 0.7878\n",
      "Epoch 13/50\n",
      "7172/7172 [==============================] - 0s 25us/sample - loss: 0.9121 - acc: 0.8045\n",
      "Epoch 14/50\n",
      "7172/7172 [==============================] - 0s 24us/sample - loss: 0.8480 - acc: 0.8282\n",
      "Epoch 15/50\n",
      "7172/7172 [==============================] - 0s 23us/sample - loss: 0.7982 - acc: 0.8359\n",
      "Epoch 16/50\n",
      "7172/7172 [==============================] - 0s 26us/sample - loss: 0.7473 - acc: 0.8491\n",
      "Epoch 17/50\n",
      "7172/7172 [==============================] - 0s 23us/sample - loss: 0.6951 - acc: 0.86530s - loss: 0.7074 - acc: 0.86\n",
      "Epoch 18/50\n",
      "7172/7172 [==============================] - 0s 24us/sample - loss: 0.6518 - acc: 0.8779\n",
      "Epoch 19/50\n",
      "7172/7172 [==============================] - 0s 23us/sample - loss: 0.6120 - acc: 0.8929\n",
      "Epoch 20/50\n",
      "7172/7172 [==============================] - 0s 25us/sample - loss: 0.5721 - acc: 0.9062\n",
      "Epoch 21/50\n",
      "7172/7172 [==============================] - 0s 23us/sample - loss: 0.5401 - acc: 0.9163\n",
      "Epoch 22/50\n",
      "7172/7172 [==============================] - 0s 23us/sample - loss: 0.4976 - acc: 0.9278\n",
      "Epoch 23/50\n",
      "7172/7172 [==============================] - 0s 24us/sample - loss: 0.4710 - acc: 0.9334\n",
      "Epoch 24/50\n",
      "7172/7172 [==============================] - 0s 28us/sample - loss: 0.4423 - acc: 0.9375\n",
      "Epoch 25/50\n",
      "7172/7172 [==============================] - 0s 25us/sample - loss: 0.4276 - acc: 0.9370\n",
      "Epoch 26/50\n",
      "7172/7172 [==============================] - 0s 34us/sample - loss: 0.3914 - acc: 0.9487\n",
      "Epoch 27/50\n",
      "7172/7172 [==============================] - 0s 34us/sample - loss: 0.3651 - acc: 0.9604\n",
      "Epoch 28/50\n",
      "7172/7172 [==============================] - 0s 31us/sample - loss: 0.3407 - acc: 0.9654\n",
      "Epoch 29/50\n",
      "7172/7172 [==============================] - 0s 31us/sample - loss: 0.3195 - acc: 0.9721\n",
      "Epoch 30/50\n",
      "7172/7172 [==============================] - 0s 35us/sample - loss: 0.2991 - acc: 0.9743\n",
      "Epoch 31/50\n",
      "7172/7172 [==============================] - 0s 37us/sample - loss: 0.2829 - acc: 0.9791\n",
      "Epoch 32/50\n",
      "7172/7172 [==============================] - 0s 36us/sample - loss: 0.2722 - acc: 0.9776\n",
      "Epoch 33/50\n",
      "7172/7172 [==============================] - 0s 35us/sample - loss: 0.2551 - acc: 0.9808\n",
      "Epoch 34/50\n",
      "7172/7172 [==============================] - 0s 33us/sample - loss: 0.2381 - acc: 0.9875\n",
      "Epoch 35/50\n",
      "7172/7172 [==============================] - 0s 32us/sample - loss: 0.2209 - acc: 0.9911\n",
      "Epoch 36/50\n",
      "7172/7172 [==============================] - 0s 32us/sample - loss: 0.2089 - acc: 0.9912\n",
      "Epoch 37/50\n",
      "7172/7172 [==============================] - 0s 30us/sample - loss: 0.1951 - acc: 0.9941\n",
      "Epoch 38/50\n",
      "7172/7172 [==============================] - 0s 32us/sample - loss: 0.1824 - acc: 0.9954\n",
      "Epoch 39/50\n",
      "7172/7172 [==============================] - 0s 32us/sample - loss: 0.1752 - acc: 0.9948\n",
      "Epoch 40/50\n",
      "7172/7172 [==============================] - 0s 30us/sample - loss: 0.1666 - acc: 0.9964\n",
      "Epoch 41/50\n",
      "7172/7172 [==============================] - 0s 30us/sample - loss: 0.1587 - acc: 0.9967\n",
      "Epoch 42/50\n",
      "7172/7172 [==============================] - 0s 32us/sample - loss: 0.1489 - acc: 0.9969\n",
      "Epoch 43/50\n",
      "7172/7172 [==============================] - 0s 32us/sample - loss: 0.1394 - acc: 0.9976\n",
      "Epoch 44/50\n",
      "7172/7172 [==============================] - 0s 30us/sample - loss: 0.1325 - acc: 0.9983\n",
      "Epoch 45/50\n",
      "7172/7172 [==============================] - 0s 31us/sample - loss: 0.1262 - acc: 0.9987\n",
      "Epoch 46/50\n",
      "7172/7172 [==============================] - 0s 30us/sample - loss: 0.1205 - acc: 0.9993\n",
      "Epoch 47/50\n",
      "7172/7172 [==============================] - 0s 30us/sample - loss: 0.1125 - acc: 0.9990\n",
      "Epoch 48/50\n",
      "7172/7172 [==============================] - 0s 30us/sample - loss: 0.1081 - acc: 0.9993\n",
      "Epoch 49/50\n",
      "7172/7172 [==============================] - 0s 30us/sample - loss: 0.1028 - acc: 0.9994\n",
      "Epoch 50/50\n",
      "7172/7172 [==============================] - 0s 30us/sample - loss: 0.0978 - acc: 0.9996\n"
     ]
    },
    {
     "data": {
      "text/plain": [
       "<tensorflow.python.keras.callbacks.History at 0x1d142fc8ef0>"
      ]
     },
     "execution_count": 15,
     "metadata": {},
     "output_type": "execute_result"
    }
   ],
   "source": [
    "model.fit(mnist_test_data, mnist_test_label, shuffle=True, batch_size=500, epochs=50)"
   ]
  },
  {
   "cell_type": "code",
   "execution_count": 16,
   "metadata": {},
   "outputs": [
    {
     "name": "stdout",
     "output_type": "stream",
     "text": [
      "7172/7172 [==============================] - 0s 39us/sample - loss: 0.0929 - acc: 0.9999\n",
      "\n",
      "LOSS: 0.0928997958854996\n",
      "ACCURACY: 0.9998605847358704\n"
     ]
    }
   ],
   "source": [
    "vc_loss, vc_accuracy = model.evaluate(mnist_test_data, mnist_test_label)\n",
    "print(\"\\nLOSS: {}\\nACCURACY: {}\".format(vc_loss, vc_accuracy))"
   ]
  },
  {
   "cell_type": "markdown",
   "metadata": {},
   "source": [
    "### Final Result\n",
    "* LOSS: 9%\n",
    "* ACCURACY: 99.9%"
   ]
  }
 ],
 "metadata": {
  "kernelspec": {
   "display_name": "Python 3",
   "language": "python",
   "name": "python3"
  },
  "language_info": {
   "codemirror_mode": {
    "name": "ipython",
    "version": 3
   },
   "file_extension": ".py",
   "mimetype": "text/x-python",
   "name": "python",
   "nbconvert_exporter": "python",
   "pygments_lexer": "ipython3",
   "version": "3.7.3"
  }
 },
 "nbformat": 4,
 "nbformat_minor": 2
}
