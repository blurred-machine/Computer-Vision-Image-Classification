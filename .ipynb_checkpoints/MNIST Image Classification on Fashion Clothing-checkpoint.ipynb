{
 "cells": [
  {
   "cell_type": "markdown",
   "metadata": {},
   "source": [
    "### MNIST Image Classification on Fashion Clothing\n",
    "* In this project I am using MNIST dataset of fashion which is availabe in keras library.\n",
    "* ALTERNATE DATASET LINK: https://www.kaggle.com/zalando-research/fashionmnist"
   ]
  },
  {
   "cell_type": "code",
   "execution_count": 1,
   "metadata": {},
   "outputs": [],
   "source": [
    "# !pip install tensorflow"
   ]
  },
  {
   "cell_type": "code",
   "execution_count": 2,
   "metadata": {},
   "outputs": [],
   "source": [
    "import pandas as pd\n",
    "import numpy as np\n",
    "\n",
    "import seaborn as sns\n",
    "\n",
    "import matplotlib.pyplot as plt\n",
    "%matplotlib inline\n",
    "\n",
    "from tensorflow import keras\n",
    "import tensorflow as tf"
   ]
  },
  {
   "cell_type": "code",
   "execution_count": 3,
   "metadata": {},
   "outputs": [],
   "source": [
    "data = keras.datasets.fashion_mnist\n",
    "(train_images, train_labels), (test_images, test_labels) = data.load_data()"
   ]
  },
  {
   "cell_type": "code",
   "execution_count": 4,
   "metadata": {},
   "outputs": [
    {
     "name": "stdout",
     "output_type": "stream",
     "text": [
      "(60000, 28, 28) (60000,) (10000, 28, 28) (10000,)\n"
     ]
    }
   ],
   "source": [
    "print(train_images.shape, train_labels.shape, test_images.shape, test_labels.shape)"
   ]
  },
  {
   "cell_type": "code",
   "execution_count": 5,
   "metadata": {},
   "outputs": [
    {
     "name": "stdout",
     "output_type": "stream",
     "text": [
      "{0: 'T-shirt/top', 1: 'Trouser', 2: 'Pullover', 3: 'Dress', 4: 'Coat', 5: 'Sandal', 6: 'Shirt', 7: 'Sneaker', 8: 'Bag', 9: 'Ankle boot'}\n"
     ]
    }
   ],
   "source": [
    "label_map = {0:\"T-shirt/top\", 1: \"Trouser\", 2: \"Pullover\", 3: \"Dress\", \n",
    "             4: \"Coat\", 5: \"Sandal\", 6: \"Shirt\", 7: \"Sneaker\", 8: \"Bag\",\n",
    "             9: \"Ankle boot\"}\n",
    "print(label_map)"
   ]
  },
  {
   "cell_type": "markdown",
   "metadata": {},
   "source": [
    "### Data Cleaning and Normalization"
   ]
  },
  {
   "cell_type": "code",
   "execution_count": 6,
   "metadata": {},
   "outputs": [],
   "source": [
    "train_images = train_images/255.0\n",
    "test_images = test_images/255.0"
   ]
  },
  {
   "cell_type": "markdown",
   "metadata": {},
   "source": [
    "### Data Visualization"
   ]
  },
  {
   "cell_type": "code",
   "execution_count": 7,
   "metadata": {},
   "outputs": [
    {
     "data": {
      "image/png": "[encoded data removed]",
      "text/plain": [
       "<Figure size 1440x720 with 4 Axes>"
      ]
     },
     "metadata": {
      "needs_background": "light"
     },
     "output_type": "display_data"
    }
   ],
   "source": [
    "fig, axs = plt.subplots(1,4, figsize=(20, 10))\n",
    "for ax, i in zip(axs, range(6)):\n",
    "    ax.imshow(train_images[i])\n",
    "    ax.grid(True)\n",
    "\n",
    "plt.show()"
   ]
  },
  {
   "cell_type": "code",
   "execution_count": 8,
   "metadata": {},
   "outputs": [
    {
     "name": "stdout",
     "output_type": "stream",
     "text": [
      "0    (0, 1000)\n",
      "1    (1, 1000)\n",
      "2    (2, 1000)\n",
      "3    (3, 1000)\n",
      "4    (4, 1000)\n",
      "5    (5, 1000)\n",
      "6    (6, 1000)\n",
      "7    (7, 1000)\n",
      "8    (8, 1000)\n",
      "9    (9, 1000)\n",
      "dtype: object\n"
     ]
    },
    {
     "data": {
      "text/plain": [
       "<matplotlib.axes._subplots.AxesSubplot at 0x7f45e3cdc2e0>"
      ]
     },
     "execution_count": 8,
     "metadata": {},
     "output_type": "execute_result"
    },
    {
     "data": {
      "image/png": "[encoded data removed]",
      "text/plain": [
       "<Figure size 432x288 with 1 Axes>"
      ]
     },
     "metadata": {
      "needs_background": "light"
     },
     "output_type": "display_data"
    }
   ],
   "source": [
    "unique, counts = np.unique(test_labels, return_counts=True)\n",
    "df = pd.Series(zip(unique, counts))\n",
    "print(df)\n",
    "sns.countplot(df)\n",
    "\n",
    "# All the types of clothers have same count present in the dataset ie. 1000"
   ]
  },
  {
   "cell_type": "markdown",
   "metadata": {},
   "source": [
    "### Training data\n",
    "Training a neural network with one input layer, one hidden layer and one output layer for learning the digits in images."
   ]
  },
  {
   "cell_type": "code",
   "execution_count": 15,
   "metadata": {},
   "outputs": [
    {
     "name": "stdout",
     "output_type": "stream",
     "text": [
      "Enter Tensordash Password :········\n"
     ]
    }
   ],
   "source": [
    "from tensordash.tensordash import Tensordash\n",
    "histories = Tensordash(\n",
    "    ModelName = 'Fashion-CNN-Model2',\n",
    "    email = 'paras.varshney97@gmail.com')"
   ]
  },
  {
   "cell_type": "code",
   "execution_count": 16,
   "metadata": {},
   "outputs": [],
   "source": [
    "model = keras.Sequential([\n",
    "    keras.layers.Flatten(input_shape=(28, 28)), \n",
    "    keras.layers.Dense(256, \"relu\"), \n",
    "    keras.layers.Dense(10, activation=\"softmax\")\n",
    "])"
   ]
  },
  {
   "cell_type": "code",
   "execution_count": 17,
   "metadata": {},
   "outputs": [],
   "source": [
    "model.compile(optimizer=\"adam\", loss=\"sparse_categorical_crossentropy\", metrics=[\"accuracy\"])"
   ]
  },
  {
   "cell_type": "code",
   "execution_count": 18,
   "metadata": {},
   "outputs": [
    {
     "name": "stdout",
     "output_type": "stream",
     "text": [
      "Epoch 1/100\n",
      "120/120 [==============================] - 1s 12ms/step - loss: 0.6667 - accuracy: 0.7757\n",
      "Epoch 2/100\n",
      "120/120 [==============================] - 1s 12ms/step - loss: 0.4385 - accuracy: 0.8494\n",
      "Epoch 3/100\n",
      "120/120 [==============================] - 2s 13ms/step - loss: 0.3958 - accuracy: 0.8625\n",
      "Epoch 4/100\n",
      "120/120 [==============================] - 1s 12ms/step - loss: 0.3692 - accuracy: 0.8705\n",
      "Epoch 5/100\n",
      "120/120 [==============================] - 1s 12ms/step - loss: 0.3475 - accuracy: 0.8774\n",
      "Epoch 6/100\n",
      "120/120 [==============================] - 2s 13ms/step - loss: 0.3285 - accuracy: 0.8839\n",
      "Epoch 7/100\n",
      "120/120 [==============================] - 1s 12ms/step - loss: 0.3147 - accuracy: 0.8874\n",
      "Epoch 8/100\n",
      "120/120 [==============================] - 1s 12ms/step - loss: 0.3080 - accuracy: 0.8896\n",
      "Epoch 9/100\n",
      "120/120 [==============================] - 2s 15ms/step - loss: 0.2963 - accuracy: 0.8942\n",
      "Epoch 10/100\n",
      "120/120 [==============================] - 1s 12ms/step - loss: 0.2822 - accuracy: 0.8988\n",
      "Epoch 11/100\n",
      "120/120 [==============================] - 2s 14ms/step - loss: 0.2734 - accuracy: 0.9017\n",
      "Epoch 12/100\n",
      "120/120 [==============================] - 2s 14ms/step - loss: 0.2673 - accuracy: 0.9027\n",
      "Epoch 13/100\n",
      "120/120 [==============================] - 2s 14ms/step - loss: 0.2582 - accuracy: 0.9069\n",
      "Epoch 14/100\n",
      "120/120 [==============================] - 1s 12ms/step - loss: 0.2505 - accuracy: 0.9082\n",
      "Epoch 15/100\n",
      "120/120 [==============================] - 2s 13ms/step - loss: 0.2471 - accuracy: 0.9106\n",
      "Epoch 16/100\n",
      "120/120 [==============================] - 2s 13ms/step - loss: 0.2384 - accuracy: 0.9144\n",
      "Epoch 17/100\n",
      "120/120 [==============================] - 1s 12ms/step - loss: 0.2341 - accuracy: 0.9151\n",
      "Epoch 18/100\n",
      "120/120 [==============================] - 2s 14ms/step - loss: 0.2312 - accuracy: 0.9161\n",
      "Epoch 19/100\n",
      "120/120 [==============================] - 2s 13ms/step - loss: 0.2241 - accuracy: 0.9184\n",
      "Epoch 20/100\n",
      "120/120 [==============================] - 2s 13ms/step - loss: 0.2222 - accuracy: 0.9188\n",
      "Epoch 21/100\n",
      "120/120 [==============================] - 1s 12ms/step - loss: 0.2166 - accuracy: 0.9216\n",
      "Epoch 22/100\n",
      "120/120 [==============================] - 2s 14ms/step - loss: 0.2114 - accuracy: 0.9229\n",
      "Epoch 23/100\n",
      "120/120 [==============================] - 2s 13ms/step - loss: 0.2054 - accuracy: 0.9249\n",
      "Epoch 24/100\n",
      "120/120 [==============================] - 2s 13ms/step - loss: 0.2002 - accuracy: 0.9273\n",
      "Epoch 25/100\n",
      "120/120 [==============================] - 2s 13ms/step - loss: 0.1970 - accuracy: 0.9288\n",
      "Epoch 26/100\n",
      "120/120 [==============================] - 2s 13ms/step - loss: 0.1918 - accuracy: 0.9311\n",
      "Epoch 27/100\n",
      "120/120 [==============================] - 2s 13ms/step - loss: 0.1920 - accuracy: 0.9304\n",
      "Epoch 28/100\n",
      "120/120 [==============================] - 2s 14ms/step - loss: 0.1846 - accuracy: 0.9338\n",
      "Epoch 29/100\n",
      "120/120 [==============================] - 1s 12ms/step - loss: 0.1806 - accuracy: 0.9350\n",
      "Epoch 30/100\n",
      "120/120 [==============================] - 1s 12ms/step - loss: 0.1765 - accuracy: 0.9368\n",
      "Epoch 31/100\n",
      "120/120 [==============================] - 2s 14ms/step - loss: 0.1716 - accuracy: 0.9392\n",
      "Epoch 32/100\n",
      "120/120 [==============================] - 2s 13ms/step - loss: 0.1688 - accuracy: 0.9398\n",
      "Epoch 33/100\n",
      "120/120 [==============================] - 1s 12ms/step - loss: 0.1707 - accuracy: 0.9384\n",
      "Epoch 34/100\n",
      "120/120 [==============================] - 2s 13ms/step - loss: 0.1640 - accuracy: 0.9415\n",
      "Epoch 35/100\n",
      "120/120 [==============================] - 2s 14ms/step - loss: 0.1633 - accuracy: 0.9420\n",
      "Epoch 36/100\n",
      "120/120 [==============================] - 2s 13ms/step - loss: 0.1583 - accuracy: 0.9437\n",
      "Epoch 37/100\n",
      "120/120 [==============================] - 2s 13ms/step - loss: 0.1545 - accuracy: 0.9459\n",
      "Epoch 38/100\n",
      "120/120 [==============================] - 2s 15ms/step - loss: 0.1513 - accuracy: 0.9459\n",
      "Epoch 39/100\n",
      "120/120 [==============================] - 2s 13ms/step - loss: 0.1485 - accuracy: 0.9468\n",
      "Epoch 40/100\n",
      "120/120 [==============================] - 1s 12ms/step - loss: 0.1412 - accuracy: 0.9502\n",
      "Epoch 41/100\n",
      "120/120 [==============================] - 2s 14ms/step - loss: 0.1408 - accuracy: 0.9508\n",
      "Epoch 42/100\n",
      "120/120 [==============================] - 2s 14ms/step - loss: 0.1398 - accuracy: 0.9507\n",
      "Epoch 43/100\n",
      "120/120 [==============================] - 1s 12ms/step - loss: 0.1373 - accuracy: 0.9516\n",
      "Epoch 44/100\n",
      "120/120 [==============================] - 2s 14ms/step - loss: 0.1344 - accuracy: 0.9525\n",
      "Epoch 45/100\n",
      "120/120 [==============================] - 2s 14ms/step - loss: 0.1343 - accuracy: 0.9527\n",
      "Epoch 46/100\n",
      "120/120 [==============================] - 2s 13ms/step - loss: 0.1273 - accuracy: 0.9558\n",
      "Epoch 47/100\n",
      "120/120 [==============================] - 2s 17ms/step - loss: 0.1284 - accuracy: 0.9547\n",
      "Epoch 48/100\n",
      "120/120 [==============================] - 1s 12ms/step - loss: 0.1262 - accuracy: 0.9556\n",
      "Epoch 49/100\n",
      "120/120 [==============================] - 1s 12ms/step - loss: 0.1262 - accuracy: 0.9558\n",
      "Epoch 50/100\n",
      "120/120 [==============================] - 2s 14ms/step - loss: 0.1213 - accuracy: 0.9579\n",
      "Epoch 51/100\n",
      "120/120 [==============================] - 2s 15ms/step - loss: 0.1149 - accuracy: 0.9604\n",
      "Epoch 52/100\n",
      "120/120 [==============================] - 1s 12ms/step - loss: 0.1138 - accuracy: 0.9606\n",
      "Epoch 53/100\n",
      "120/120 [==============================] - 1s 12ms/step - loss: 0.1095 - accuracy: 0.9625\n",
      "Epoch 54/100\n",
      "120/120 [==============================] - 2s 14ms/step - loss: 0.1176 - accuracy: 0.9581\n",
      "Epoch 55/100\n",
      "120/120 [==============================] - 2s 13ms/step - loss: 0.1087 - accuracy: 0.9629\n",
      "Epoch 56/100\n",
      "120/120 [==============================] - 2s 13ms/step - loss: 0.1101 - accuracy: 0.9620\n",
      "Epoch 57/100\n",
      "120/120 [==============================] - 2s 13ms/step - loss: 0.1038 - accuracy: 0.9649\n",
      "Epoch 58/100\n",
      "120/120 [==============================] - 2s 13ms/step - loss: 0.1020 - accuracy: 0.9649\n",
      "Epoch 59/100\n",
      "120/120 [==============================] - 1s 12ms/step - loss: 0.1012 - accuracy: 0.9658\n",
      "Epoch 60/100\n",
      "120/120 [==============================] - 2s 13ms/step - loss: 0.0983 - accuracy: 0.9665\n",
      "Epoch 61/100\n",
      "120/120 [==============================] - 1s 12ms/step - loss: 0.0989 - accuracy: 0.9664\n",
      "Epoch 62/100\n",
      "120/120 [==============================] - 1s 12ms/step - loss: 0.0968 - accuracy: 0.9662\n",
      "Epoch 63/100\n",
      "120/120 [==============================] - 2s 14ms/step - loss: 0.0909 - accuracy: 0.9689\n",
      "Epoch 64/100\n",
      "120/120 [==============================] - 2s 15ms/step - loss: 0.0904 - accuracy: 0.9692\n",
      "Epoch 65/100\n",
      "120/120 [==============================] - 1s 12ms/step - loss: 0.0915 - accuracy: 0.9697\n",
      "Epoch 66/100\n",
      "120/120 [==============================] - 2s 13ms/step - loss: 0.0862 - accuracy: 0.9714\n",
      "Epoch 67/100\n",
      "120/120 [==============================] - 2s 13ms/step - loss: 0.0805 - accuracy: 0.9740\n",
      "Epoch 68/100\n",
      "120/120 [==============================] - 2s 13ms/step - loss: 0.0823 - accuracy: 0.9731\n",
      "Epoch 69/100\n",
      "120/120 [==============================] - 2s 14ms/step - loss: 0.0796 - accuracy: 0.9738\n",
      "Epoch 70/100\n",
      "120/120 [==============================] - 2s 14ms/step - loss: 0.0811 - accuracy: 0.9726\n",
      "Epoch 71/100\n",
      "120/120 [==============================] - 2s 14ms/step - loss: 0.0823 - accuracy: 0.9722\n",
      "Epoch 72/100\n",
      "120/120 [==============================] - 2s 14ms/step - loss: 0.0787 - accuracy: 0.9738\n",
      "Epoch 73/100\n",
      "120/120 [==============================] - 2s 13ms/step - loss: 0.0766 - accuracy: 0.9745\n",
      "Epoch 74/100\n",
      "120/120 [==============================] - 2s 14ms/step - loss: 0.0704 - accuracy: 0.9779\n",
      "Epoch 75/100\n",
      "120/120 [==============================] - 2s 19ms/step - loss: 0.0733 - accuracy: 0.9760\n",
      "Epoch 76/100\n",
      "120/120 [==============================] - 1s 12ms/step - loss: 0.0726 - accuracy: 0.9763\n",
      "Epoch 77/100\n",
      "120/120 [==============================] - 1s 12ms/step - loss: 0.0710 - accuracy: 0.9770\n",
      "Epoch 78/100\n",
      "120/120 [==============================] - 1s 12ms/step - loss: 0.0695 - accuracy: 0.9772\n",
      "Epoch 79/100\n",
      "120/120 [==============================] - 2s 13ms/step - loss: 0.0680 - accuracy: 0.9780\n",
      "Epoch 80/100\n"
     ]
    },
    {
     "name": "stdout",
     "output_type": "stream",
     "text": [
      " 50/120 [===========>..................] - ETA: 0s - loss: 0.0676 - accuracy: 0.9783"
     ]
    }
   ],
   "source": [
    "try:\n",
    "    model.fit(train_images, train_labels, shuffle=True, batch_size=500, epochs=100, callbacks = [histories])\n",
    "except:\n",
    "    histories.sendCrash()"
   ]
  },
  {
   "cell_type": "markdown",
   "metadata": {},
   "source": [
    "###  Evaluation of model over validation dataset"
   ]
  },
  {
   "cell_type": "code",
   "execution_count": 13,
   "metadata": {},
   "outputs": [
    {
     "name": "stdout",
     "output_type": "stream",
     "text": [
      "313/313 [==============================] - 0s 613us/step - loss: 0.4809 - accuracy: 0.8903\n",
      "\n",
      "LOSS: 0.48086312413215637\n",
      "ACCURACY: 0.8902999758720398\n"
     ]
    }
   ],
   "source": [
    "vc_loss, vc_accuracy = model.evaluate(test_images, test_labels)\n",
    "print(\"\\nLOSS: {}\\nACCURACY: {}\".format(vc_loss, vc_accuracy))"
   ]
  },
  {
   "cell_type": "markdown",
   "metadata": {},
   "source": [
    "### Making prediction over test dataset"
   ]
  },
  {
   "cell_type": "code",
   "execution_count": 14,
   "metadata": {},
   "outputs": [
    {
     "data": {
      "image/png": "[encoded data removed]",
      "text/plain": [
       "<Figure size 432x288 with 1 Axes>"
      ]
     },
     "metadata": {
      "needs_background": "light"
     },
     "output_type": "display_data"
    },
    {
     "name": "stdout",
     "output_type": "stream",
     "text": [
      "PREDICTION FASHION = Ankle boot\n"
     ]
    },
    {
     "data": {
      "image/png": "[encoded data removed]",
      "text/plain": [
       "<Figure size 432x288 with 1 Axes>"
      ]
     },
     "metadata": {
      "needs_background": "light"
     },
     "output_type": "display_data"
    },
    {
     "name": "stdout",
     "output_type": "stream",
     "text": [
      "PREDICTION FASHION = Pullover\n"
     ]
    },
    {
     "data": {
      "image/png": "[encoded data removed]",
      "text/plain": [
       "<Figure size 432x288 with 1 Axes>"
      ]
     },
     "metadata": {
      "needs_background": "light"
     },
     "output_type": "display_data"
    },
    {
     "name": "stdout",
     "output_type": "stream",
     "text": [
      "PREDICTION FASHION = Trouser\n"
     ]
    },
    {
     "data": {
      "image/png": "[encoded data removed]",
      "text/plain": [
       "<Figure size 432x288 with 1 Axes>"
      ]
     },
     "metadata": {
      "needs_background": "light"
     },
     "output_type": "display_data"
    },
    {
     "name": "stdout",
     "output_type": "stream",
     "text": [
      "PREDICTION FASHION = Trouser\n"
     ]
    },
    {
     "data": {
      "image/png": "[encoded data removed]",
      "text/plain": [
       "<Figure size 432x288 with 1 Axes>"
      ]
     },
     "metadata": {
      "needs_background": "light"
     },
     "output_type": "display_data"
    },
    {
     "name": "stdout",
     "output_type": "stream",
     "text": [
      "PREDICTION FASHION = Shirt\n"
     ]
    }
   ],
   "source": [
    "predictions = model.predict(test_images)\n",
    "\n",
    "for i in range(5):\n",
    "    plt.imshow(test_images[i], cmap = plt.cm.binary)\n",
    "    plt.show()\n",
    "    print(\"PREDICTION FASHION = {}\".format(label_map[np.argmax(predictions[i])]))"
   ]
  },
  {
   "cell_type": "markdown",
   "metadata": {},
   "source": [
    "## Final Result\n",
    "* LOSS: 32%\n",
    "* ACCURACY: 88.6%"
   ]
  }
 ],
 "metadata": {
  "kernelspec": {
   "display_name": "Python 3",
   "language": "python",
   "name": "python3"
  },
  "language_info": {
   "codemirror_mode": {
    "name": "ipython",
    "version": 3
   },
   "file_extension": ".py",
   "mimetype": "text/x-python",
   "name": "python",
   "nbconvert_exporter": "python",
   "pygments_lexer": "ipython3",
   "version": "3.8.3"
  }
 },
 "nbformat": 4,
 "nbformat_minor": 2
}
